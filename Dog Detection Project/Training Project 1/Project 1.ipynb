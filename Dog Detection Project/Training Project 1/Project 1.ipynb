{
 "cells": [
  {
   "cell_type": "markdown",
   "metadata": {},
   "source": [
    "Libraries"
   ]
  },
  {
   "cell_type": "code",
   "execution_count": 1,
   "metadata": {},
   "outputs": [],
   "source": [
    "import tensorflow as tf\n",
    "import numpy as np\n",
    "import matplotlib.pyplot as plt\n",
    "from tensorflow.keras.datasets import cifar10\n",
    "from tensorflow.keras import layers, models, regularizers\n",
    "from tensorflow.keras.models import Sequential\n",
    "from tensorflow.keras.layers import Conv2D, MaxPooling2D, Flatten, Dense, Dropout\n",
    "from sklearn.metrics import confusion_matrix\n",
    "import seaborn as sns\n",
    "from sklearn.model_selection import train_test_split\n",
    "from keras.preprocessing.image import ImageDataGenerator\n",
    "from keras.callbacks import EarlyStopping\n",
    "import shutil"
   ]
  },
  {
   "cell_type": "markdown",
   "metadata": {},
   "source": [
    "CIFAR10\n",
    "\n"
   ]
  },
  {
   "cell_type": "code",
   "execution_count": 2,
   "metadata": {},
   "outputs": [],
   "source": [
    "# Load CIFAR-10 dataset\n",
    "(train_images, train_labels), (test_images, test_labels) = cifar10.load_data()\n",
    "\n",
    "# Filter images containing dogs (class 5 in CIFAR-10)\n",
    "dog_indices_train = np.where(train_labels == 5)[0]\n",
    "dog_indices_test = np.where(test_labels == 5)[0]\n",
    "\n",
    "# Create new labels: 1 for dogs, 0 for everything else\n",
    "train_labels_binary = np.zeros((len(train_labels), 1))\n",
    "train_labels_binary[dog_indices_train] = 1\n",
    "\n",
    "test_labels_binary = np.zeros((len(test_labels), 1))\n",
    "test_labels_binary[dog_indices_test] = 1\n",
    "\n",
    "# Filter images containing dogs and non-dog images\n",
    "train_images_dog = train_images[dog_indices_train]\n",
    "train_images_nondog = np.delete(train_images, dog_indices_train, axis=0)\n",
    "\n",
    "test_images_dog = test_images[dog_indices_test]\n",
    "test_images_nondog = np.delete(test_images, dog_indices_test, axis=0)\n",
    "\n",
    "# Combine dog and non-dog images\n",
    "train_images_final = np.concatenate((train_images_dog, train_images_nondog))\n",
    "test_images_final = np.concatenate((test_images_dog, test_images_nondog))\n",
    "\n",
    "# Combine dog and non-dog labels\n",
    "train_labels_final = np.concatenate((train_labels_binary[dog_indices_train], np.zeros((len(train_images_nondog), 1))))\n",
    "test_labels_final = np.concatenate((test_labels_binary[dog_indices_test], np.zeros((len(test_images_nondog), 1))))\n",
    "\n",
    "# Determine the number of non-dog images to delete\n",
    "num_images_to_delete = 35000\n",
    "\n",
    "# Delete the specified number of non-dog images\n",
    "train_images_nondog_balanced = np.delete(train_images_nondog, range(num_images_to_delete), axis=0)\n",
    "\n",
    "# Update the combined train images and labels\n",
    "train_images_final = np.concatenate((train_images_dog, train_images_nondog_balanced))\n",
    "train_labels_final = np.concatenate((train_labels_binary[dog_indices_train], np.zeros((len(train_images_nondog_balanced), 1))))\n",
    "\n",
    "# Create an ImageDataGenerator instance for data augmentation\n",
    "datagen = ImageDataGenerator(\n",
    "    rotation_range=20,\n",
    "    width_shift_range=0.1,\n",
    "    height_shift_range=0.1,\n",
    "    shear_range=0.1,\n",
    "    zoom_range=0.1,\n",
    "    horizontal_flip=True,\n",
    "    fill_mode='nearest'\n",
    ")\n",
    "\n",
    "# Fit the ImageDataGenerator to your training data\n",
    "datagen.fit(train_images_final)"
   ]
  },
  {
   "cell_type": "markdown",
   "metadata": {},
   "source": [
    "Models\n"
   ]
  },
  {
   "cell_type": "code",
   "execution_count": 3,
   "metadata": {},
   "outputs": [
    {
     "name": "stdout",
     "output_type": "stream",
     "text": [
      "Model: \"sequential\"\n",
      "_________________________________________________________________\n",
      " Layer (type)                Output Shape              Param #   \n",
      "=================================================================\n",
      " conv2d (Conv2D)             (None, 30, 30, 32)        896       \n",
      "                                                                 \n",
      " batch_normalization (BatchN  (None, 30, 30, 32)       128       \n",
      " ormalization)                                                   \n",
      "                                                                 \n",
      " conv2d_1 (Conv2D)           (None, 30, 30, 32)        9248      \n",
      "                                                                 \n",
      " batch_normalization_1 (Batc  (None, 30, 30, 32)       128       \n",
      " hNormalization)                                                 \n",
      "                                                                 \n",
      " max_pooling2d (MaxPooling2D  (None, 15, 15, 32)       0         \n",
      " )                                                               \n",
      "                                                                 \n",
      " dropout (Dropout)           (None, 15, 15, 32)        0         \n",
      "                                                                 \n",
      " conv2d_2 (Conv2D)           (None, 15, 15, 64)        18496     \n",
      "                                                                 \n",
      " batch_normalization_2 (Batc  (None, 15, 15, 64)       256       \n",
      " hNormalization)                                                 \n",
      "                                                                 \n",
      " conv2d_3 (Conv2D)           (None, 13, 13, 64)        36928     \n",
      "                                                                 \n",
      " batch_normalization_3 (Batc  (None, 13, 13, 64)       256       \n",
      " hNormalization)                                                 \n",
      "                                                                 \n",
      " max_pooling2d_1 (MaxPooling  (None, 6, 6, 64)         0         \n",
      " 2D)                                                             \n",
      "                                                                 \n",
      " dropout_1 (Dropout)         (None, 6, 6, 64)          0         \n",
      "                                                                 \n",
      " conv2d_4 (Conv2D)           (None, 6, 6, 128)         73856     \n",
      "                                                                 \n",
      " batch_normalization_4 (Batc  (None, 6, 6, 128)        512       \n",
      " hNormalization)                                                 \n",
      "                                                                 \n",
      " conv2d_5 (Conv2D)           (None, 4, 4, 128)         147584    \n",
      "                                                                 \n",
      " batch_normalization_5 (Batc  (None, 4, 4, 128)        512       \n",
      " hNormalization)                                                 \n",
      "                                                                 \n",
      " max_pooling2d_2 (MaxPooling  (None, 2, 2, 128)        0         \n",
      " 2D)                                                             \n",
      "                                                                 \n",
      " dropout_2 (Dropout)         (None, 2, 2, 128)         0         \n",
      "                                                                 \n",
      " conv2d_6 (Conv2D)           (None, 2, 2, 256)         295168    \n",
      "                                                                 \n",
      " batch_normalization_6 (Batc  (None, 2, 2, 256)        1024      \n",
      " hNormalization)                                                 \n",
      "                                                                 \n",
      " conv2d_7 (Conv2D)           (None, 2, 2, 256)         590080    \n",
      "                                                                 \n",
      " batch_normalization_7 (Batc  (None, 2, 2, 256)        1024      \n",
      " hNormalization)                                                 \n",
      "                                                                 \n",
      " max_pooling2d_3 (MaxPooling  (None, 1, 1, 256)        0         \n",
      " 2D)                                                             \n",
      "                                                                 \n",
      " dropout_3 (Dropout)         (None, 1, 1, 256)         0         \n",
      "                                                                 \n",
      " flatten (Flatten)           (None, 256)               0         \n",
      "                                                                 \n",
      " dense (Dense)               (None, 512)               131584    \n",
      "                                                                 \n",
      " dropout_4 (Dropout)         (None, 512)               0         \n",
      "                                                                 \n",
      " dense_1 (Dense)             (None, 1)                 513       \n",
      "                                                                 \n",
      "=================================================================\n",
      "Total params: 1,308,193\n",
      "Trainable params: 1,306,273\n",
      "Non-trainable params: 1,920\n",
      "_________________________________________________________________\n"
     ]
    }
   ],
   "source": [
    "# Define the model architecture\n",
    "\n",
    "model = models.Sequential([\n",
    "    layers.Conv2D(32, (3, 3), activation='relu', input_shape=(32, 32, 3)),\n",
    "    layers.BatchNormalization(),\n",
    "    layers.Conv2D(32, (3, 3), activation='relu', padding='same'),\n",
    "    layers.BatchNormalization(),\n",
    "    layers.MaxPooling2D((2, 2)),\n",
    "    layers.Dropout(0.2),\n",
    "    \n",
    "    layers.Conv2D(64, (3, 3), activation='relu', padding='same'),\n",
    "    layers.BatchNormalization(),\n",
    "    layers.Conv2D(64, (3, 3), activation='relu'),\n",
    "    layers.BatchNormalization(),\n",
    "    layers.MaxPooling2D((2, 2)),\n",
    "    layers.Dropout(0.3),\n",
    "    \n",
    "    layers.Conv2D(128, (3, 3), activation='relu', padding='same'),\n",
    "    layers.BatchNormalization(),\n",
    "    layers.Conv2D(128, (3, 3), activation='relu'),\n",
    "    layers.BatchNormalization(),\n",
    "    layers.MaxPooling2D((2, 2)),\n",
    "    layers.Dropout(0.4),\n",
    "\n",
    "    layers.Conv2D(256, (3, 3), activation='relu', padding='same'),\n",
    "    layers.BatchNormalization(),\n",
    "    layers.Conv2D(256, (3, 3), activation='relu', padding='same'),\n",
    "    layers.BatchNormalization(),\n",
    "    layers.MaxPooling2D((2, 2)),\n",
    "    layers.Dropout(0.5),\n",
    "    \n",
    "    layers.Flatten(),\n",
    "    layers.Dense(512, activation='relu', kernel_regularizer=regularizers.l2(0.001)),\n",
    "    layers.Dropout(0.5),\n",
    "    layers.Dense(1, activation='sigmoid')\n",
    "])\n",
    "\n",
    "\n",
    "model.summary()"
   ]
  },
  {
   "cell_type": "markdown",
   "metadata": {},
   "source": [
    "Training"
   ]
  },
  {
   "cell_type": "code",
   "execution_count": 4,
   "metadata": {},
   "outputs": [
    {
     "name": "stdout",
     "output_type": "stream",
     "text": [
      "Epoch 1/30\n",
      "469/469 [==============================] - 21s 32ms/step - loss: 0.8796 - accuracy: 0.7189 - val_loss: 0.5283 - val_accuracy: 0.8958\n",
      "Epoch 2/30\n",
      "469/469 [==============================] - 10s 21ms/step - loss: 0.6356 - accuracy: 0.7831 - val_loss: 0.4353 - val_accuracy: 0.8766\n",
      "Epoch 3/30\n",
      "469/469 [==============================] - 10s 21ms/step - loss: 0.5421 - accuracy: 0.7995 - val_loss: 0.3174 - val_accuracy: 0.9009\n",
      "Epoch 4/30\n",
      "469/469 [==============================] - 11s 23ms/step - loss: 0.4742 - accuracy: 0.8149 - val_loss: 0.2714 - val_accuracy: 0.9047\n",
      "Epoch 5/30\n",
      "469/469 [==============================] - 12s 25ms/step - loss: 0.4254 - accuracy: 0.8225 - val_loss: 0.3292 - val_accuracy: 0.8821\n",
      "Epoch 6/30\n",
      "469/469 [==============================] - 11s 24ms/step - loss: 0.4042 - accuracy: 0.8303 - val_loss: 0.3430 - val_accuracy: 0.9083\n",
      "Epoch 7/30\n",
      "469/469 [==============================] - 12s 25ms/step - loss: 0.3804 - accuracy: 0.8377 - val_loss: 0.2322 - val_accuracy: 0.9110\n",
      "Epoch 8/30\n",
      "469/469 [==============================] - 12s 25ms/step - loss: 0.3628 - accuracy: 0.8475 - val_loss: 0.5272 - val_accuracy: 0.7267\n",
      "Epoch 9/30\n",
      "469/469 [==============================] - 12s 25ms/step - loss: 0.3528 - accuracy: 0.8490 - val_loss: 0.1923 - val_accuracy: 0.9309\n",
      "Epoch 10/30\n",
      "469/469 [==============================] - 12s 25ms/step - loss: 0.3485 - accuracy: 0.8560 - val_loss: 0.1842 - val_accuracy: 0.9291\n",
      "Epoch 11/30\n",
      "469/469 [==============================] - 11s 24ms/step - loss: 0.3343 - accuracy: 0.8609 - val_loss: 0.1722 - val_accuracy: 0.9362\n",
      "Epoch 12/30\n",
      "469/469 [==============================] - 11s 24ms/step - loss: 0.3265 - accuracy: 0.8635 - val_loss: 0.1817 - val_accuracy: 0.9335\n",
      "Epoch 13/30\n",
      "469/469 [==============================] - 11s 24ms/step - loss: 0.3236 - accuracy: 0.8635 - val_loss: 0.1877 - val_accuracy: 0.9254\n",
      "Epoch 14/30\n",
      "469/469 [==============================] - 11s 24ms/step - loss: 0.3241 - accuracy: 0.8656 - val_loss: 0.1898 - val_accuracy: 0.9255\n",
      "Epoch 15/30\n",
      "469/469 [==============================] - 11s 24ms/step - loss: 0.3104 - accuracy: 0.8705 - val_loss: 0.1639 - val_accuracy: 0.9393\n",
      "Epoch 16/30\n",
      "469/469 [==============================] - 11s 24ms/step - loss: 0.3072 - accuracy: 0.8712 - val_loss: 0.2768 - val_accuracy: 0.8846\n",
      "Epoch 17/30\n",
      "469/469 [==============================] - 11s 24ms/step - loss: 0.3039 - accuracy: 0.8747 - val_loss: 0.1670 - val_accuracy: 0.9428\n",
      "Epoch 18/30\n",
      "469/469 [==============================] - 12s 25ms/step - loss: 0.2993 - accuracy: 0.8788 - val_loss: 0.1927 - val_accuracy: 0.9308\n",
      "Epoch 19/30\n",
      "469/469 [==============================] - 11s 24ms/step - loss: 0.2889 - accuracy: 0.8815 - val_loss: 0.1607 - val_accuracy: 0.9392\n",
      "Epoch 20/30\n",
      "469/469 [==============================] - 12s 26ms/step - loss: 0.2950 - accuracy: 0.8799 - val_loss: 0.1728 - val_accuracy: 0.9431\n",
      "Epoch 21/30\n",
      "469/469 [==============================] - 12s 24ms/step - loss: 0.2909 - accuracy: 0.8815 - val_loss: 0.1545 - val_accuracy: 0.9429\n",
      "Epoch 22/30\n",
      "469/469 [==============================] - 12s 25ms/step - loss: 0.2852 - accuracy: 0.8861 - val_loss: 0.1795 - val_accuracy: 0.9271\n",
      "Epoch 23/30\n",
      "469/469 [==============================] - 12s 25ms/step - loss: 0.2798 - accuracy: 0.8871 - val_loss: 0.1525 - val_accuracy: 0.9432\n",
      "Epoch 24/30\n",
      "469/469 [==============================] - 12s 24ms/step - loss: 0.2743 - accuracy: 0.8909 - val_loss: 0.2157 - val_accuracy: 0.9222\n",
      "Epoch 25/30\n",
      "469/469 [==============================] - 12s 25ms/step - loss: 0.2709 - accuracy: 0.8903 - val_loss: 0.1811 - val_accuracy: 0.9266\n",
      "Epoch 26/30\n",
      "469/469 [==============================] - 12s 25ms/step - loss: 0.2683 - accuracy: 0.8933 - val_loss: 0.1905 - val_accuracy: 0.9348\n",
      "Epoch 27/30\n",
      "469/469 [==============================] - 11s 24ms/step - loss: 0.2723 - accuracy: 0.8910 - val_loss: 0.1612 - val_accuracy: 0.9358\n",
      "Epoch 28/30\n",
      "469/469 [==============================] - 12s 25ms/step - loss: 0.2611 - accuracy: 0.8963 - val_loss: 0.1692 - val_accuracy: 0.9366\n"
     ]
    },
    {
     "data": {
      "image/png": "[encoded data removed]",
      "text/plain": [
       "<Figure size 640x480 with 1 Axes>"
      ]
     },
     "metadata": {},
     "output_type": "display_data"
    }
   ],
   "source": [
    "# Training\n",
    "\n",
    "# Split dataset into train and validation sets\n",
    "X_train, X_val, y_train, y_val = train_test_split(train_images_final, train_labels_final, test_size=0.2, random_state=42)\n",
    "\n",
    "# Compile model with binary cross-entropy loss and appropriate optimizer\n",
    "model.compile(optimizer='adam', loss='binary_crossentropy', metrics=['accuracy'])\n",
    "\n",
    "# Define Early Stopping callback\n",
    "early_stopping = EarlyStopping(monitor='val_loss', patience=5, restore_best_weights=True)\n",
    "\n",
    "# Train model on training set, validating on validation set\n",
    "#history = model.fit(X_train, y_train, epochs=30, batch_size=32, validation_data=(X_val, y_val), callbacks=[early_stopping])\n",
    "# Train your model with augmented data\n",
    "history = model.fit(datagen.flow(train_images_final, train_labels_final, batch_size=32), epochs=30, validation_data=(test_images_final, test_labels_final),callbacks=[early_stopping])\n",
    "\n",
    "# Plot training history\n",
    "plt.plot(history.history['accuracy'], label='accuracy')\n",
    "plt.plot(history.history['val_accuracy'], label='val_accuracy')\n",
    "plt.xlabel('Epoch')\n",
    "plt.ylabel('Accuracy')\n",
    "plt.legend(loc='lower right')\n",
    "plt.show()\n"
   ]
  },
  {
   "cell_type": "markdown",
   "metadata": {},
   "source": [
    "Evaluation"
   ]
  },
  {
   "cell_type": "code",
   "execution_count": 5,
   "metadata": {},
   "outputs": [
    {
     "name": "stdout",
     "output_type": "stream",
     "text": [
      "313/313 [==============================] - 2s 6ms/step - loss: 0.1525 - accuracy: 0.9432\n",
      "Test Loss: 0.15248176455497742\n",
      "Test Accuracy: 0.9431999921798706\n",
      "313/313 [==============================] - 1s 4ms/step\n",
      "Accuracy: 0.9432\n",
      "Precision: 0.711764705882353\n",
      "Recall: 0.726\n",
      "F1-score: 0.7188118811881188\n"
     ]
    }
   ],
   "source": [
    "# Evaluation\n",
    "\n",
    "# Evaluate model on test set\n",
    "test_loss, test_accuracy = model.evaluate(test_images_final, test_labels_final)\n",
    "\n",
    "print(\"Test Loss:\", test_loss)\n",
    "print(\"Test Accuracy:\", test_accuracy)\n",
    "\n",
    "# Optionally, you can calculate additional evaluation metrics using scikit-learn\n",
    "from sklearn.metrics import accuracy_score, precision_score, recall_score, f1_score\n",
    "\n",
    "# Predictions on test set\n",
    "y_pred = model.predict(test_images_final)\n",
    "y_pred_binary = (y_pred > 0.5).astype(int)  # Convert probabilities to binary predictions\n",
    "\n",
    "# Calculate evaluation metrics\n",
    "accuracy = accuracy_score(test_labels_final, y_pred_binary)\n",
    "precision = precision_score(test_labels_final, y_pred_binary)\n",
    "recall = recall_score(test_labels_final, y_pred_binary)\n",
    "f1 = f1_score(test_labels_final, y_pred_binary)\n",
    "\n",
    "print(\"Accuracy:\", accuracy)\n",
    "print(\"Precision:\", precision)\n",
    "print(\"Recall:\", recall)\n",
    "print(\"F1-score:\", f1)\n"
   ]
  },
  {
   "cell_type": "markdown",
   "metadata": {},
   "source": [
    "Confusion matrix"
   ]
  },
  {
   "cell_type": "code",
   "execution_count": 6,
   "metadata": {},
   "outputs": [
    {
     "data": {
      "image/png": "[encoded data removed]",
      "text/plain": [
       "<Figure size 800x600 with 1 Axes>"
      ]
     },
     "metadata": {},
     "output_type": "display_data"
    }
   ],
   "source": [
    "# Calculate the confusion matrix\n",
    "conf_matrix = confusion_matrix(test_labels_final, y_pred_binary)\n",
    "\n",
    "# Plot the confusion matrix\n",
    "plt.figure(figsize=(8, 6))\n",
    "sns.heatmap(conf_matrix, annot=True, fmt='d', cmap='Blues', cbar=False)\n",
    "plt.xlabel('Predicted labels')\n",
    "plt.ylabel('True labels')\n",
    "plt.title('Confusion Matrix')\n",
    "plt.show()\n"
   ]
  },
  {
   "cell_type": "markdown",
   "metadata": {},
   "source": [
    "Save Model"
   ]
  },
  {
   "cell_type": "code",
   "execution_count": 7,
   "metadata": {},
   "outputs": [],
   "source": [
    "# Optionally, you can save the trained model for later use\n",
    "model.save(\"better_dog_detection_model.h5\")"
   ]
  },
  {
   "cell_type": "markdown",
   "metadata": {},
   "source": [
    "Covert Model to  TF Lite"
   ]
  },
  {
   "cell_type": "code",
   "execution_count": 8,
   "metadata": {},
   "outputs": [
    {
     "name": "stderr",
     "output_type": "stream",
     "text": [
      "WARNING:absl:Found untraced functions such as _jit_compiled_convolution_op, _jit_compiled_convolution_op, _jit_compiled_convolution_op, _jit_compiled_convolution_op, _jit_compiled_convolution_op while saving (showing 5 of 8). These functions will not be directly callable after loading.\n"
     ]
    },
    {
     "name": "stdout",
     "output_type": "stream",
     "text": [
      "INFO:tensorflow:Assets written to: C:\\Users\\diego\\AppData\\Local\\Temp\\tmpr4fm_0zr\\assets\n"
     ]
    },
    {
     "name": "stderr",
     "output_type": "stream",
     "text": [
      "INFO:tensorflow:Assets written to: C:\\Users\\diego\\AppData\\Local\\Temp\\tmpr4fm_0zr\\assets\n"
     ]
    },
    {
     "data": {
      "text/plain": [
       "'C:\\\\Users\\\\diego\\\\OneDrive\\\\Desktop\\\\ML IoT\\\\Project 1 Arduino\\\\dog_detection\\\\g_dog_detect_model_data.tflite'"
      ]
     },
     "execution_count": 8,
     "metadata": {},
     "output_type": "execute_result"
    }
   ],
   "source": [
    "# Convert the model to TensorFlow Lite format\n",
    "converter = tf.lite.TFLiteConverter.from_keras_model(model)\n",
    "tflite_model = converter.convert()\n",
    "\n",
    "# Save the TensorFlow Lite model to a file with the desired filename\n",
    "tflite_filename = \"g_dog_detect_model_data.tflite\"\n",
    "with open(tflite_filename, \"wb\") as f:\n",
    "    f.write(tflite_model)\n",
    "\n",
    "# Specify the destination directory where you want to copy the TensorFlow Lite model\n",
    "destination_directory = r\"C:\\Users\\diego\\OneDrive\\Desktop\\ML IoT\\Project 1 Arduino\\dog_detection\"\n",
    "\n",
    "# Copy the TensorFlow Lite model to the destination directory\n",
    "shutil.copy(tflite_filename, destination_directory)\n"
   ]
  },
  {
   "cell_type": "markdown",
   "metadata": {},
   "source": [
    "Tests"
   ]
  },
  {
   "cell_type": "code",
   "execution_count": 9,
   "metadata": {},
   "outputs": [
    {
     "name": "stdout",
     "output_type": "stream",
     "text": [
      "1/1 [==============================] - 1s 591ms/step\n"
     ]
    },
    {
     "data": {
      "image/png": "[encoded data removed]",
      "text/plain": [
       "<Figure size 640x480 with 1 Axes>"
      ]
     },
     "metadata": {},
     "output_type": "display_data"
    },
    {
     "name": "stdout",
     "output_type": "stream",
     "text": [
      "It's a dog.\n"
     ]
    }
   ],
   "source": [
    "# Function to preprocess the uploaded image\n",
    "def preprocess_image(img_path):\n",
    "    img = tf.keras.preprocessing.image.load_img(img_path, target_size=(32, 32))  # Assuming your model expects input images of size 32x32\n",
    "    img_array = tf.keras.preprocessing.image.img_to_array(img)\n",
    "    img_array = np.expand_dims(img_array, axis=0)\n",
    "    return img_array\n",
    "\n",
    "# Path to the uploaded image\n",
    "uploaded_image_path = 'dog.jpg'\n",
    "\n",
    "# Preprocess the uploaded image\n",
    "preprocessed_image = preprocess_image(uploaded_image_path)\n",
    "\n",
    "# Make predictions using your trained model\n",
    "predictions = model.predict(preprocessed_image)\n",
    "\n",
    "# Display the image\n",
    "plt.imshow(preprocessed_image[0]/255.0)  # Assuming the pixel values are normalized in the range [0, 1]\n",
    "plt.axis('off')\n",
    "plt.show()\n",
    "\n",
    "# Interpret the predictions\n",
    "if predictions[0][0] > 0.5:\n",
    "    print(\"It's a dog.\")\n",
    "else:\n",
    "    print(\"It's not a dog.\")\n"
   ]
  },
  {
   "cell_type": "code",
   "execution_count": 10,
   "metadata": {},
   "outputs": [
    {
     "name": "stdout",
     "output_type": "stream",
     "text": [
      "1/1 [==============================] - 0s 23ms/step\n"
     ]
    },
    {
     "data": {
      "image/png": "[encoded data removed]",
      "text/plain": [
       "<Figure size 640x480 with 1 Axes>"
      ]
     },
     "metadata": {},
     "output_type": "display_data"
    },
    {
     "name": "stdout",
     "output_type": "stream",
     "text": [
      "It's not a dog.\n"
     ]
    }
   ],
   "source": [
    "# Function to preprocess the uploaded image\n",
    "def preprocess_image(img_path):\n",
    "    img = tf.keras.preprocessing.image.load_img(img_path, target_size=(32, 32))  # Assuming your model expects input images of size 32x32\n",
    "    img_array = tf.keras.preprocessing.image.img_to_array(img)\n",
    "    img_array = np.expand_dims(img_array, axis=0)\n",
    "    return img_array\n",
    "\n",
    "# Path to the uploaded image\n",
    "uploaded_image_path = 'dog1.jpg'\n",
    "\n",
    "# Preprocess the uploaded image\n",
    "preprocessed_image = preprocess_image(uploaded_image_path)\n",
    "\n",
    "# Make predictions using your trained model\n",
    "predictions = model.predict(preprocessed_image)\n",
    "\n",
    "# Display the image\n",
    "plt.imshow(preprocessed_image[0]/255.0)  # Assuming the pixel values are normalized in the range [0, 1]\n",
    "plt.axis('off')\n",
    "plt.show()\n",
    "\n",
    "# Interpret the predictions\n",
    "if predictions[0][0] > 0.5:\n",
    "    print(\"It's a dog.\")\n",
    "else:\n",
    "    print(\"It's not a dog.\")\n"
   ]
  },
  {
   "cell_type": "code",
   "execution_count": 11,
   "metadata": {},
   "outputs": [
    {
     "name": "stdout",
     "output_type": "stream",
     "text": [
      "1/1 [==============================] - 0s 25ms/step\n"
     ]
    },
    {
     "data": {
      "image/png": "[encoded data removed]",
      "text/plain": [
       "<Figure size 640x480 with 1 Axes>"
      ]
     },
     "metadata": {},
     "output_type": "display_data"
    },
    {
     "name": "stdout",
     "output_type": "stream",
     "text": [
      "It's a dog.\n"
     ]
    }
   ],
   "source": [
    "# Function to preprocess the uploaded image\n",
    "def preprocess_image(img_path):\n",
    "    img = tf.keras.preprocessing.image.load_img(img_path, target_size=(32, 32))  # Assuming your model expects input images of size 32x32\n",
    "    img_array = tf.keras.preprocessing.image.img_to_array(img)\n",
    "    img_array = np.expand_dims(img_array, axis=0)\n",
    "    return img_array\n",
    "\n",
    "# Path to the uploaded image\n",
    "uploaded_image_path = 'dog2.jpg'\n",
    "\n",
    "# Preprocess the uploaded image\n",
    "preprocessed_image = preprocess_image(uploaded_image_path)\n",
    "\n",
    "# Make predictions using your trained model\n",
    "predictions = model.predict(preprocessed_image)\n",
    "\n",
    "# Display the image\n",
    "plt.imshow(preprocessed_image[0]/255.0)  # Assuming the pixel values are normalized in the range [0, 1]\n",
    "plt.axis('off')\n",
    "plt.show()\n",
    "\n",
    "# Interpret the predictions\n",
    "if predictions[0][0] > 0.5:\n",
    "    print(\"It's a dog.\")\n",
    "else:\n",
    "    print(\"It's not a dog.\")\n"
   ]
  },
  {
   "cell_type": "code",
   "execution_count": 12,
   "metadata": {},
   "outputs": [
    {
     "name": "stdout",
     "output_type": "stream",
     "text": [
      "1/1 [==============================] - 0s 28ms/step\n"
     ]
    },
    {
     "data": {
      "image/png": "[encoded data removed]",
      "text/plain": [
       "<Figure size 640x480 with 1 Axes>"
      ]
     },
     "metadata": {},
     "output_type": "display_data"
    },
    {
     "name": "stdout",
     "output_type": "stream",
     "text": [
      "It's a dog.\n"
     ]
    }
   ],
   "source": [
    "\n",
    "\n",
    "# Function to preprocess the uploaded image\n",
    "def preprocess_image(img_path):\n",
    "    img = tf.keras.preprocessing.image.load_img(img_path, target_size=(32, 32))  # Assuming your model expects input images of size 32x32\n",
    "    img_array = tf.keras.preprocessing.image.img_to_array(img)\n",
    "    img_array = np.expand_dims(img_array, axis=0)\n",
    "    return img_array\n",
    "\n",
    "# Path to the uploaded image\n",
    "uploaded_image_path = 'dog3.jpg'\n",
    "\n",
    "# Preprocess the uploaded image\n",
    "preprocessed_image = preprocess_image(uploaded_image_path)\n",
    "\n",
    "# Make predictions using your trained model\n",
    "predictions = model.predict(preprocessed_image)\n",
    "\n",
    "# Display the image\n",
    "plt.imshow(preprocessed_image[0]/255.0)  # Assuming the pixel values are normalized in the range [0, 1]\n",
    "plt.axis('off')\n",
    "plt.show()\n",
    "\n",
    "# Interpret the predictions\n",
    "if predictions[0][0] > 0.5:\n",
    "    print(\"It's a dog.\")\n",
    "else:\n",
    "    print(\"It's not a dog.\")\n"
   ]
  }
 ],
 "metadata": {
  "kernelspec": {
   "display_name": "Python 3",
   "language": "python",
   "name": "python3"
  },
  "language_info": {
   "codemirror_mode": {
    "name": "ipython",
    "version": 3
   },
   "file_extension": ".py",
   "mimetype": "text/x-python",
   "name": "python",
   "nbconvert_exporter": "python",
   "pygments_lexer": "ipython3",
   "version": "3.10.13"
  }
 },
 "nbformat": 4,
 "nbformat_minor": 2
}
